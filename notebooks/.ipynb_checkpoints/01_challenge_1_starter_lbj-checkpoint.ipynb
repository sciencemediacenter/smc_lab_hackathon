{
 "cells": [
  {
   "cell_type": "code",
   "execution_count": 1,
   "id": "232381ff-3e68-4507-bd22-ca620210985c",
   "metadata": {},
   "outputs": [],
   "source": [
    "import os\n",
    "import chromadb\n",
    "from chromadb.config import Settings\n",
    "from langchain.embeddings.openai import OpenAIEmbeddings\n",
    "from langchain.vectorstores import Chroma\n",
    "from langchain.chat_models import ChatOpenAI\n",
    "from langchain.schema.runnable import RunnablePassthrough\n",
    "from langchain.prompts import PromptTemplate\n",
    "from langchain.schema import StrOutputParser\n",
    "from langchain.schema.prompt_template import format_document\n",
    "import json"
   ]
  },
  {
   "cell_type": "code",
   "execution_count": 2,
   "id": "10eaaeb2-49ca-40c9-842a-cc73dc80f6e4",
   "metadata": {},
   "outputs": [],
   "source": [
    "DATA_LOCATION = os.environ.get(\"DATA_LOCATION\")\n",
    "OPENAI_API_KEY = os.environ.get(\"OPENAI_API_KEY\")"
   ]
  },
  {
   "cell_type": "markdown",
   "id": "a4fb1624-4ef2-4ded-a886-059fc194f88a",
   "metadata": {},
   "source": [
    "## 1. Lade die collections"
   ]
  },
  {
   "cell_type": "code",
   "execution_count": 3,
   "id": "a0a2acd5-65f1-4542-ad86-29606bb6d045",
   "metadata": {},
   "outputs": [
    {
     "name": "stderr",
     "output_type": "stream",
     "text": [
      "/usr/local/lib/python3.11/site-packages/langchain/embeddings/openai.py:217: UserWarning: WARNING! api_key is not default parameter.\n",
      "                    api_key was transferred to model_kwargs.\n",
      "                    Please confirm that api_key is what you intended.\n",
      "  warnings.warn(\n",
      "/usr/local/lib/python3.11/site-packages/langchain/embeddings/openai.py:217: UserWarning: WARNING! model_name is not default parameter.\n",
      "                    model_name was transferred to model_kwargs.\n",
      "                    Please confirm that model_name is what you intended.\n",
      "  warnings.warn(\n"
     ]
    }
   ],
   "source": [
    "persistent_client = chromadb.PersistentClient(\n",
    "    path=f\"{DATA_LOCATION}/chroma_db\", \n",
    "    settings=Settings(allow_reset=True)\n",
    ")\n",
    "embedding_function = OpenAIEmbeddings(\n",
    "    api_key=OPENAI_API_KEY,\n",
    "    model_name=\"text-embedding-ada-002\"\n",
    ")\n",
    "\n",
    "teaser_db = Chroma(\n",
    "    client=persistent_client,\n",
    "    collection_name=\"story_teaser\",\n",
    "    embedding_function=embedding_function,\n",
    ")\n",
    "statement_db = Chroma(\n",
    "    client=persistent_client,\n",
    "    collection_name=\"story_statement\",\n",
    "    embedding_function=embedding_function,\n",
    ")"
   ]
  },
  {
   "cell_type": "code",
   "execution_count": 4,
   "id": "1eed8f31-6876-40d1-b83a-966eb477d047",
   "metadata": {},
   "outputs": [
    {
     "name": "stdout",
     "output_type": "stream",
     "text": [
      "Es gibt 2635 Dokumente in 'teaser_db' und 16980 Dokumente in 'statement_db'. Dokumente sind in diesem Kontext Teile der Texte und keine vollständige Teaser oder Statements\n"
     ]
    }
   ],
   "source": [
    "print(\"Es gibt\", teaser_db._collection.count(), \"Dokumente in 'teaser_db' und\", statement_db._collection.count(), \"Dokumente in 'statement_db'. Dokumente sind in diesem Kontext Teile der Texte und keine vollständige Teaser oder Statements\")"
   ]
  },
  {
   "cell_type": "markdown",
   "id": "1e7a21e7-f686-42d1-a88e-1d232cce2b37",
   "metadata": {},
   "source": [
    "## 2. Abfrage"
   ]
  },
  {
   "cell_type": "code",
   "execution_count": 5,
   "id": "557236f7-80d0-494c-9b67-e79fdc031786",
   "metadata": {},
   "outputs": [],
   "source": [
    "query = \"Was sind die Erklärungen fur den Insektenrückgang\"\n",
    "teaser_retriever = teaser_db.as_retriever()\n",
    "statement_retriever = statement_db.as_retriever()"
   ]
  },
  {
   "cell_type": "code",
   "execution_count": 6,
   "id": "23543430-0c13-437a-8e39-e1f6535c0c1e",
   "metadata": {},
   "outputs": [],
   "source": [
    "teaser_results = teaser_retriever.invoke(query)\n",
    "statement_results = statement_retriever.invoke(query)"
   ]
  },
  {
   "cell_type": "code",
   "execution_count": 7,
   "id": "f75205df-aa83-4a3e-baab-32e6eedba2a7",
   "metadata": {},
   "outputs": [
    {
     "name": "stdout",
     "output_type": "stream",
     "text": [
      "Es wurden 4 Dokumente in 'teaser_db' zu der Query gefunden. Hier sind sie:\n"
     ]
    }
   ],
   "source": [
    "print(\"Es wurden\", len(teaser_results), \"Dokumente in 'teaser_db' zu der Query gefunden. Hier sind sie:\")"
   ]
  },
  {
   "cell_type": "code",
   "execution_count": 8,
   "id": "bb1ee5e0-2f24-4d17-8227-9ff015a4c23a",
   "metadata": {},
   "outputs": [
    {
     "name": "stdout",
     "output_type": "stream",
     "text": [
      "0\n",
      "\" Metastudie sucht nach Ursachen für Insektenrückgang \"\n",
      "\n",
      "Die Metadaten dazu: \n",
      "{'publication_date': '2023-08-23', 'ressort': 'Klima & Umwelt', 'source': '/workspace/data/story_teaser/23140.txt', 'start_index': 0, 'story_no': 23140, 'type': 'Research in Context', 'url': 'https://www.sciencemediacenter.de/alle-angebote/research-in-context/details/news/metastudie-sucht-nach-ursachen-fuer-insektenrueckgang/'}\n",
      "---\n",
      "1\n",
      "\" Auf der Suche nach möglichen Ursachen für den Rückgang der terrestrischen Insekten finden die Autoren eine Verbindung zur intensivierten Landnutzung und keinen Einfluss durch den Klimawandel. Als mögliche Erklärung für den global positiven Trend der Süßwasserinsekten sehen sie zum einen die häufig verbesserte Wasserqualität durch konsequentere Wasserschutzgesetze. Zum anderen spielten die durch den Klimawandel steigenden Temperaturen und ein Nährstoffüberangebot durch Einträge aus der Landwirtschaft eine mögliche Rolle.\n",
      "\n",
      "Die Ergebnisse wurden im Fachjournal „Science“ publiziert (siehe Primärquelle). Zeitgleich erschien ein ‚Insight‘ ebenfalls in ‚Sciene‘, dass Bezug auf die hier besprochene Arbeit nimmt (siehe Primärquellen). \"\n",
      "\n",
      "Die Metadaten dazu: \n",
      "{'publication_date': '2020-04-23', 'ressort': 'Klima & Umwelt', 'source': '/workspace/data/story_teaser/20074.txt', 'start_index': 1161, 'story_no': 20074, 'type': 'Research in Context', 'url': 'https://www.sciencemediacenter.de/alle-angebote/research-in-context/details/news/metastudie-zum-globalen-insektenrueckgang'}\n",
      "---\n",
      "2\n",
      "\" Erklärt das Wetter den Insektenrückgang?\n",
      "\n",
      "Der Faktor Wetter spielt eine wichtige Rolle bei den Schwankungen in den langjährigen Trends der Insektenbiomasse. Zu diesem Ergebnis kommt die Studie eines Teams aus Deutschland und der Schweiz, die am 27. September im Fachjournal „Nature“ veröffentlicht wurde (siehe Primärquelle). Auf Grundlage der Daten der viel zitierten Krefeld-Studie, auch oft Hallmann-Studie genannt, analysieren sie Anstiege und Rückgänge der Insektenbiomasse über 34 Jahre und das Wetter und Wetteranomalien an den Orten der Probennahme. Bis zu 75 Prozent der Trends ließen sich so mit diesen Faktoren erklären, wenn sie zusätzlich zum Wetter auch räumliche und zeitliche Auflösungen der Habitate berücksichtigten, so die Forschenden. Diese Studie wirft ein neues Licht auf die intensive Debatte um die möglichen Ursachen des so genannten Insektensterbens. \"\n",
      "\n",
      "Die Metadaten dazu: \n",
      "{'publication_date': '2023-09-27', 'ressort': 'Klima & Umwelt', 'source': '/workspace/data/story_teaser/23162.txt', 'start_index': 0, 'story_no': 23162, 'type': 'Research in Context', 'url': 'https://www.sciencemediacenter.de/alle-angebote/research-in-context/details/news/erklaert-das-wetter-den-insektenrueckgang/'}\n",
      "---\n",
      "3\n",
      "\" 2017 erschien die Krefeld-Studie, für die 27 Jahre lang die Entwicklung der Biomasse fliegender Insekten beobachtet wurde [I]. In diesem Zeitraum wurde dabei ein Rückgang um 76 Prozent beobachtet, ohne dass die Studie dabei die Ursachen für diesen Trend belegen konnte. Als diese werden vor allem die intensive Landwirtschaft, die zunehmende Umweltbelastung, die fortschreitende Fragmentierung der Lebensräume der Insekten, der Klimawandel und die Lichtverschmutzung diskutiert. \"\n",
      "\n",
      "Die Metadaten dazu: \n",
      "{'publication_date': '2023-09-27', 'ressort': 'Klima & Umwelt', 'source': '/workspace/data/story_teaser/23162.txt', 'start_index': 878, 'story_no': 23162, 'type': 'Research in Context', 'url': 'https://www.sciencemediacenter.de/alle-angebote/research-in-context/details/news/erklaert-das-wetter-den-insektenrueckgang/'}\n",
      "---\n"
     ]
    }
   ],
   "source": [
    "for i, r in enumerate(teaser_results):\n",
    "    print(i)\n",
    "    print('\"', r.page_content, '\"')\n",
    "    print(\"\")\n",
    "    print(\"Die Metadaten dazu: \")\n",
    "    print(r.metadata)\n",
    "    print(\"---\")"
   ]
  },
  {
   "cell_type": "code",
   "execution_count": null,
   "id": "70598a6a-aedc-418a-b3da-ea8b21f18e12",
   "metadata": {},
   "outputs": [],
   "source": []
  },
  {
   "cell_type": "code",
   "execution_count": 9,
   "id": "e0ca72e3-99ac-4c3d-a632-b6fbfc0a5e7b",
   "metadata": {},
   "outputs": [
    {
     "name": "stdout",
     "output_type": "stream",
     "text": [
      "Es wurden 4 Dokumente in 'statement_db' zu der Query gefunden. Hinweis: allen Statements wurde den Story-Titel hinzugefügt. Hier sind sie:\n"
     ]
    }
   ],
   "source": [
    "print(\"Es wurden\", len(statement_results), \"Dokumente in 'statement_db' zu der Query gefunden. Hinweis: allen Statements wurde den Story-Titel hinzugefügt. Hier sind sie:\")"
   ]
  },
  {
   "cell_type": "code",
   "execution_count": 10,
   "id": "60639bd9-bebe-4f77-aa03-4ccbef17ad7a",
   "metadata": {},
   "outputs": [
    {
     "name": "stdout",
     "output_type": "stream",
     "text": [
      "0\n",
      "\" Erklärt das Wetter den Insektenrückgang?\n",
      "\n",
      "Die aktuelle Studie befasst sich mit der Frage, wie der in der Krefeld-Studie [1] beobachtete Rückgang in der Biomasse an Insekten in Malaise-Fallenin Naturschutzgebietenzu erklären ist. Die Autoren kommen zu dem Schluss, dass das Wetter und damit letztlich der Klimawandel die Abnahme verursacht hat. Dabei unterschlagen sie, dass die Landwirtschaft in ihren eigenen Analysen einen ebenso großen Einfluss auf die Daten hat. Die Studie stützt also die Hypothese, dass Klimawandel und Landwirtschaft gleichermaßen den Rückgang der Insekten verursacht haben. Dies gilt allerdings nur, wenn man davon ausgeht, dass die Studie korrekt durchgeführt wurde, woran man auch Zweifel haben kann.\n",
      "\n",
      "Methodik \"\n",
      "\n",
      "Die Metadaten dazu: \n",
      "{'expert_affiliation': 'Professor für Chemische Ökologie, Leiter Fachgebiet Chemische Ökologie, Institut für Biologie, Fakultät Naturwissenschaften, Universität Hohenheim, Stuttgart', 'expert_name': 'Prof. Dr. Johannes Steidle', 'publication_date': '2023-09-27', 'ressort': 'Klima & Umwelt', 'source': '/workspace/data/story_statement/23162_2.txt', 'start_index': 0, 'statement_no': '23162_2_0_statement', 'story_no': 23162, 'type': 'Research in Context', 'url': 'https://www.sciencemediacenter.de/alle-angebote/research-in-context/details/news/erklaert-das-wetter-den-insektenrueckgang/'}\n",
      "---\n",
      "1\n",
      "\" Erklärt das Wetter den Insektenrückgang?\n",
      "\n",
      "Um es vorweg zu sagen: Diese Studie gibt keine Entwarnung! Wir beobachten einen gravierenden Rückgang der Artenvielfalt durch vielfältige menschliche Einflüsse. Neu ist, dass die jährliche Variation der Insektenbiomasse teilweise durch eine Reihe von Witterungsanomalien erklärt werden kann und dass in den letzten Jahren einer Erholung der Insektenbiomasse in Malaise-Fallen zu beobachten war. Die Biomasse erlaubt keine direkte Aussage zur Veränderung der Artenvielfalt. \"\n",
      "\n",
      "Die Metadaten dazu: \n",
      "{'expert_affiliation': 'Leiter des Lehrstuhls für Tierökologie und Tropenbiologie, Fakultät für Biologie, Julius-Maximilians-Universität Würzburg', 'expert_name': 'Prof. Dr. Ingolf Steffan-Dewenter', 'publication_date': '2023-09-27', 'ressort': 'Klima & Umwelt', 'source': '/workspace/data/story_statement/23162_1.txt', 'start_index': 0, 'statement_no': '23162_1_0_statement', 'story_no': 23162, 'type': 'Research in Context', 'url': 'https://www.sciencemediacenter.de/alle-angebote/research-in-context/details/news/erklaert-das-wetter-den-insektenrueckgang/'}\n",
      "---\n",
      "2\n",
      "\" Erklärt das Wetter den Insektenrückgang?\n",
      "\n",
      "Unser Wissen über die Ursachen von Schwankungen der Insektenbiomasse ist noch sehr begrenzt, anders als für das Artensterben. In der Krefeld-Studie [1] konnte keine klare Ursache für den starken Rückgang der Insektenbiomasse identifiziert werden, da systematische Daten zu solchen Faktoren fehlten. Die Autoren haben nun sehr detailliert die Auswirkungen der Witterung auf die Insektenbiomasse analysiert. Dass Insektenpopulationen sehr stark von der Witterung beeinflusst werden, ist bereits sehr lange bekannt, aber die Bedeutung im Kontext der Biomassedaten war unklar.\n",
      "\n",
      "Suche nach der Ursachen des Insektenrückgangs \"\n",
      "\n",
      "Die Metadaten dazu: \n",
      "{'expert_affiliation': 'außerplanmäßiger Professor im Fachbereich Biogeographie, Universität Trier und Vorsitzender des Komitees zum Schutz wirbelloser Tiere des Weltnaturschutzverbands (IUCN)', 'expert_name': 'Prof. Dr. Axel Hochkirch', 'publication_date': '2023-09-27', 'ressort': 'Klima & Umwelt', 'source': '/workspace/data/story_statement/23162_7.txt', 'start_index': 0, 'statement_no': '23162_7_0_statement', 'story_no': 23162, 'type': 'Research in Context', 'url': 'https://www.sciencemediacenter.de/alle-angebote/research-in-context/details/news/erklaert-das-wetter-den-insektenrueckgang/'}\n",
      "---\n",
      "3\n",
      "\" Rückgang der Insektenbiomasse um über 75 Prozent\n",
      "\n",
      "Die vorliegende Studie zeigt deutlich, dass wir in größeren Gebieten Nord- bzw. Nordwestdeutschlands starke Rückgänge – um drei Viertel – der Biomassen von Insekten im Laufe der letzten etwa 30 Jahren hatten.\n",
      "\n",
      "Bezüglich der Ursachen für diesen Rückgang werden einige Zusammenhänge herausgearbeitet. Dabei handelt es sich um Korrelationen, die jedoch nicht unbedingt Kausalitäten beschreiben. Zudem können nur Analysen für Faktoren gemacht werden, für die entsprechende Daten vorliegen. Diese lagen den Autoren der Studie zum Beispiel zu Details der Landnutzung – wie Management, Pestizide, Düngung etc. – den Autoren (noch) nicht vor. Deshalb sind Aussagen nicht möglich, wenngleich von solchen Einflüssen auszugehen ist. \"\n",
      "\n",
      "Die Metadaten dazu: \n",
      "{'expert_affiliation': 'Leiter Department Naturschutzforschung, Umweltforschungszentrum (UFZ), Halle/Saale, und Mitglied im Sachverständigenrat für Umweltfragen (SRU) der Bundesregierung', 'expert_name': 'Prof. Dr. Josef Settele', 'publication_date': '2017-10-18', 'ressort': 'Klima & Umwelt', 'source': '/workspace/data/story_statement/17067_3.txt', 'start_index': 0, 'statement_no': '17067_3_0_statement', 'story_no': 17067, 'type': 'Research in Context', 'url': 'https://www.sciencemediacenter.de/alle-angebote/research-in-context/details/news/rueckgang-der-insektenbiomasse-um-ueber-75-prozent'}\n",
      "---\n"
     ]
    }
   ],
   "source": [
    "for i, r in enumerate(statement_results):\n",
    "    print(i)\n",
    "    print('\"', r.page_content, '\"')\n",
    "    print(\"\")\n",
    "    print(\"Die Metadaten dazu: \")\n",
    "    print(r.metadata)\n",
    "    print(\"---\")"
   ]
  },
  {
   "cell_type": "markdown",
   "id": "a5489bcd-6e14-489c-9437-2bfafee1017a",
   "metadata": {},
   "source": [
    "## 3. Textgenerierung"
   ]
  },
  {
   "cell_type": "markdown",
   "id": "c461e815-e4ad-4d3e-840a-63d5d53ddb99",
   "metadata": {},
   "source": [
    "### 3.1 Zusammenfassung der Dokumente"
   ]
  },
  {
   "cell_type": "code",
   "execution_count": 13,
   "id": "89c96f59-f6bd-4f6c-a275-f86075450022",
   "metadata": {},
   "outputs": [],
   "source": [
    "doc_prompt = PromptTemplate.from_template(\"{page_content}\")\n",
    "\n",
    "chain = (\n",
    "    {\n",
    "        \"content\": lambda docs: \"\\n\\n\".join(\n",
    "            format_document(doc, doc_prompt) for doc in docs\n",
    "        )\n",
    "    }\n",
    "    | PromptTemplate.from_template(\"Summarize the following content:\\n\\n{content}. The information in content comes from different sources, so extract facts, and AVOID make affirmations about the study like 'die Metastudio zeigt' or 'eine Studie untersucht'. The summary MUST be in German!\")\n",
    "    | ChatOpenAI(temperature=0, model_name=\"gpt-3.5-turbo\")\n",
    "    | StrOutputParser()\n",
    ")"
   ]
  },
  {
   "cell_type": "code",
   "execution_count": 14,
   "id": "e48b1995-fca5-4b41-8ef5-55ee7d2d29dd",
   "metadata": {},
   "outputs": [
    {
     "data": {
      "text/plain": [
       "'Eine Metastudie hat nach möglichen Ursachen für den Rückgang der terrestrischen Insekten gesucht. Dabei wurde festgestellt, dass die intensivierte Landnutzung einen Einfluss auf den Rückgang hat, während der Klimawandel keinen Einfluss hat. Bei Süßwasserinsekten wird der positive Trend auf verbesserte Wasserqualität und steigende Temperaturen durch den Klimawandel zurückgeführt. Eine andere Studie zeigt, dass das Wetter eine wichtige Rolle bei den Schwankungen der Insektenbiomasse spielt. Bis zu 75 Prozent der Trends können durch Wetter- und Wetteranomalien erklärt werden. Die Krefeld-Studie aus dem Jahr 2017 beobachtete einen Rückgang der Biomasse fliegender Insekten um 76 Prozent, konnte jedoch keine konkreten Ursachen dafür feststellen. Diskutiert werden vor allem intensive Landwirtschaft, Umweltbelastung, Fragmentierung der Lebensräume, Klimawandel und Lichtverschmutzung als mögliche Ursachen.'"
      ]
     },
     "execution_count": 14,
     "metadata": {},
     "output_type": "execute_result"
    }
   ],
   "source": [
    "teaser_summary = chain.invoke(teaser_results)\n",
    "teaser_summary"
   ]
  },
  {
   "cell_type": "code",
   "execution_count": 15,
   "id": "fc0e3134-ed11-4c44-b2fd-82ed825a2eb7",
   "metadata": {},
   "outputs": [
    {
     "data": {
      "text/plain": [
       "'Die vorliegende Studie untersucht den Rückgang der Insektenbiomasse in Naturschutzgebieten und stellt fest, dass das Wetter und der Klimawandel dafür verantwortlich sein könnten. Es wird jedoch darauf hingewiesen, dass die Landwirtschaft ebenfalls einen großen Einfluss auf die Daten hat. Die Studie unterstützt die Hypothese, dass sowohl der Klimawandel als auch die Landwirtschaft den Rückgang der Insekten verursacht haben könnten. Es wird jedoch darauf hingewiesen, dass Zweifel an der Korrektheit der Studie bestehen könnten. Es wird betont, dass die Biomasse keine direkte Aussage über die Veränderung der Artenvielfalt ermöglicht. Es wird darauf hingewiesen, dass das Wissen über die Ursachen des Insektenrückgangs begrenzt ist und dass in der Krefeld-Studie keine klare Ursache identifiziert werden konnte. Die vorliegende Studie zeigt einen Rückgang der Insektenbiomasse um über 75 Prozent in größeren Gebieten Nord- und Nordwestdeutschlands in den letzten 30 Jahren. Es werden Zusammenhänge zwischen dem Rückgang und verschiedenen Faktoren aufgezeigt, jedoch wird betont, dass diese Korrelationen nicht unbedingt Kausalitäten darstellen und dass weitere Daten zu Landnutzungsfaktoren fehlen.'"
      ]
     },
     "execution_count": 15,
     "metadata": {},
     "output_type": "execute_result"
    }
   ],
   "source": [
    "statement_summary = chain.invoke(statement_results)\n",
    "statement_summary"
   ]
  },
  {
   "cell_type": "markdown",
   "id": "7f45acf6-2e40-4b4a-955b-a4b229c901fb",
   "metadata": {},
   "source": [
    "### 3.2 Generierung des Radiobeitrags "
   ]
  },
  {
   "cell_type": "code",
   "execution_count": null,
   "id": "fd26d5ab-5c52-45e1-a91b-1e3db3d5c0ce",
   "metadata": {},
   "outputs": [],
   "source": []
  },
  {
   "cell_type": "code",
   "execution_count": null,
   "id": "5d9dda6d-5d36-4a7d-b018-158e82ced925",
   "metadata": {},
   "outputs": [],
   "source": []
  },
  {
   "cell_type": "code",
   "execution_count": null,
   "id": "529cf9b0-7a44-4394-aa37-7d4b2d323743",
   "metadata": {},
   "outputs": [],
   "source": []
  },
  {
   "cell_type": "code",
   "execution_count": null,
   "id": "e8fad7fc-eb71-4acd-b516-0dc3ab7606fa",
   "metadata": {},
   "outputs": [],
   "source": []
  },
  {
   "cell_type": "code",
   "execution_count": null,
   "id": "b685b532-5a39-4ec9-a464-18d1d7b17936",
   "metadata": {},
   "outputs": [],
   "source": []
  },
  {
   "cell_type": "code",
   "execution_count": null,
   "id": "ea6cb48a-b5d7-4160-b63a-23357fa31021",
   "metadata": {},
   "outputs": [],
   "source": []
  }
 ],
 "metadata": {
  "kernelspec": {
   "display_name": "Python 3 (ipykernel)",
   "language": "python",
   "name": "python3"
  },
  "language_info": {
   "codemirror_mode": {
    "name": "ipython",
    "version": 3
   },
   "file_extension": ".py",
   "mimetype": "text/x-python",
   "name": "python",
   "nbconvert_exporter": "python",
   "pygments_lexer": "ipython3",
   "version": "3.11.6"
  }
 },
 "nbformat": 4,
 "nbformat_minor": 5
}
